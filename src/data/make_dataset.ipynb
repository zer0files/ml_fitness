{
 "cells": [
  {
   "cell_type": "code",
   "execution_count": null,
   "id": "2525505c",
   "metadata": {},
   "outputs": [],
   "source": [
    "import pandas as pd\n",
    "from glob import glob"
   ]
  },
  {
   "cell_type": "code",
   "execution_count": null,
   "id": "0af60077",
   "metadata": {},
   "outputs": [],
   "source": [
    "single_file_acc = pd.read_csv(\"../../data/raw/MetaMotion/A-bench-heavy2-rpe8_MetaWear_2019-01-11T16.10.08.270_C42732BE255C_Accelerometer_12.500Hz_1.4.4.csv\")\n",
    "single_file_gyr = pd.read_csv(\"../../data/raw/MetaMotion/A-bench-heavy2-rpe8_MetaWear_2019-01-11T16.10.08.270_C42732BE255C_Gyroscope_25.000Hz_1.4.4.csv\")\n",
    "\n",
    "# single_file_acc\n",
    "# single_file_gyr"
   ]
  },
  {
   "cell_type": "code",
   "execution_count": null,
   "id": "134fe62d",
   "metadata": {},
   "outputs": [],
   "source": [
    "files = glob(\"../../data/raw/MetaMotion/*.csv\")\n",
    "len(files)"
   ]
  },
  {
   "cell_type": "code",
   "execution_count": null,
   "id": "4cafc2a1",
   "metadata": {},
   "outputs": [],
   "source": [
    "data_path = \"../../data/raw/MetaMotion\\\\\"\n",
    "f = files[0]\n",
    "\n",
    "participant = f.split(\"-\")[0].replace(data_path, \"\")\n",
    "# .replace(data_path, \"\")\n",
    "label = f.split(\"-\")[1]\n",
    "category = f.split(\"-\")[2].rstrip(\"123\").rstrip(\"_MetaWear_2019\")\n",
    "\n",
    "df = pd.read_csv(f)\n",
    "\n",
    "df[\"participant\"] = participant\n",
    "df[\"label\"] = label\n",
    "df[\"category\"] = category\n",
    "\n",
    "print(participant)"
   ]
  },
  {
   "cell_type": "markdown",
   "id": "17065091",
   "metadata": {},
   "source": [
    "Read all files"
   ]
  },
  {
   "cell_type": "code",
   "execution_count": null,
   "id": "7ab1520c",
   "metadata": {},
   "outputs": [],
   "source": [
    "acc_df = pd.DataFrame()\n",
    "gyr_df = pd.DataFrame()\n",
    "\n",
    "acc_set = 1\n",
    "gyr_set = 1\n",
    "\n",
    "for f in files:\n",
    "    participant = f.split(\"-\")[0].replace(data_path, \"\")\n",
    "    label = f.split(\"-\")[1]\n",
    "    category = f.split(\"-\")[2].rstrip(\"123\").rstrip(\"_MetaWear_2019\")\n",
    "\n",
    "    df = pd.read_csv(f)\n",
    "\n",
    "    df[\"participant\"] = participant\n",
    "    df[\"label\"] = label\n",
    "    df[\"category\"] = category\n",
    "\n",
    "    if \"Accelerometer\" in f:\n",
    "        df[\"set\"] = acc_set\n",
    "        acc_set+=1\n",
    "        acc_df = pd.concat([acc_df, df])\n",
    "\n",
    "    if \"Gyroscope\" in f:\n",
    "        df[\"set\"] = gyr_set\n",
    "        gyr_set+=1\n",
    "        gyr_df = pd.concat([gyr_df, df])\n",
    "\n",
    "acc_df[acc_df[\"set\"]==10]"
   ]
  },
  {
   "cell_type": "markdown",
   "id": "b41f6811",
   "metadata": {},
   "source": [
    "Working with datetimes"
   ]
  },
  {
   "cell_type": "code",
   "execution_count": null,
   "id": "9286562f",
   "metadata": {},
   "outputs": [],
   "source": [
    "acc_df.info()\n",
    "\n",
    "pd.to_datetime(df[\"epoch (ms)\"], unit=\"ms\")\n",
    "\n",
    "acc_df.index = pd.to_datetime(acc_df[\"epoch (ms)\"], unit=\"ms\")\n",
    "gyr_df.index = pd.to_datetime(gyr_df[\"epoch (ms)\"], unit=\"ms\")"
   ]
  }
 ],
 "metadata": {
  "kernelspec": {
   "display_name": "Python 3 (ipykernel)",
   "language": "python",
   "name": "python3"
  },
  "language_info": {
   "codemirror_mode": {
    "name": "ipython",
    "version": 3
   },
   "file_extension": ".py",
   "mimetype": "text/x-python",
   "name": "python",
   "nbconvert_exporter": "python",
   "pygments_lexer": "ipython3",
   "version": "3.12.2"
  }
 },
 "nbformat": 4,
 "nbformat_minor": 5
}
